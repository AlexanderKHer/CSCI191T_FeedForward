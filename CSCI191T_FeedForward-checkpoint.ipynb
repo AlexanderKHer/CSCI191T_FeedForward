{
 "cells": [
  {
   "cell_type": "markdown",
   "id": "55f0fd6c",
   "metadata": {},
   "source": [
    "# Feed Forward Algorithm"
   ]
  },
  {
   "cell_type": "markdown",
   "id": "10a6a450",
   "metadata": {},
   "source": [
    "#### Alexander Her"
   ]
  },
  {
   "cell_type": "markdown",
   "id": "7c6eb3ab",
   "metadata": {},
   "source": [
    "##### First input in the test point array"
   ]
  },
  {
   "cell_type": "code",
   "execution_count": 21,
   "id": "1c04d298",
   "metadata": {
    "scrolled": false
   },
   "outputs": [
    {
     "name": "stdout",
     "output_type": "stream",
     "text": [
      "3.19304864\n",
      "-1.59451474\n",
      "[1, 0.9605718456066229, 0.16874965243320605]\n",
      "Output Y is: \n",
      "-6.630773834881156\n"
     ]
    }
   ],
   "source": [
    "import math \n",
    "import numpy as np\n",
    "\n",
    "def sigmoid(x):\n",
    "  return 1 /(1+math.exp(-x))\n",
    "\n",
    "#test points\n",
    "training_inputs = np.array([[1, 0, 0],\n",
    "                          [1, 0, 1],\n",
    "                          [1, 1, 0], \n",
    "                          [1, 1, 1]])\n",
    "\n",
    "\n",
    "# transpose to 4x1 matrix\n",
    "training_outputs = np.array([0, 1, 1, 0]).T\n",
    "\n",
    "w1 = (3.19304864, 9.93278091, -4.74659947)\n",
    "w2 = (-1.59451474, 9.97879746, 4.47953684)\n",
    "V1 = (0.32620883, -8.71647388, 8.39004239)\n",
    "bias = 1.0\n",
    "\n",
    "# calculations for z1\n",
    "xw0 = training_inputs[0][0] * w1[0]\n",
    "xw1 = training_inputs[0][1] * w1[1]\n",
    "xw2 = training_inputs[0][2] * w1[2]\n",
    "\n",
    "z1 = xw0 + xw1 + xw2\n",
    "print(z1)\n",
    "\n",
    "# calculations for z2\n",
    "xw0 = training_inputs[0][0] * w2[0]\n",
    "xw1 = training_inputs[0][1] * w2[1]\n",
    "xw2 = training_inputs[0][2] * w2[2]\n",
    "\n",
    "z2 = xw0 + xw1 + xw2\n",
    "print(z2)\n",
    "\n",
    "# activation function\n",
    "sig = lambda y : 1/(1+np.exp(-y))\n",
    "\n",
    "# hard coded\n",
    "z0 = 1\n",
    "\n",
    "z = [z0, \n",
    "    sig(z1), \n",
    "    sig(z2)\n",
    "    ]\n",
    "\n",
    "print (z)\n",
    "\n",
    "# calculations for y\n",
    "# calculations for z2\n",
    "zv0 = z[0] * V1[0]\n",
    "zv1 = z[1] * V1[1]\n",
    "zv2 = z[2] * V1[2]\n",
    "\n",
    "y = zv0 + zv1 + zv2\n",
    "print(\"Output Y is: \")\n",
    "print (y)\n"
   ]
  },
  {
   "cell_type": "markdown",
   "id": "5c5019b0",
   "metadata": {},
   "source": [
    "##### Second input in the test point array"
   ]
  },
  {
   "cell_type": "code",
   "execution_count": 22,
   "id": "edd5ed37",
   "metadata": {},
   "outputs": [
    {
     "name": "stdout",
     "output_type": "stream",
     "text": [
      "-1.5535508299999994\n",
      "2.8850220999999996\n",
      "[1, 0.17457400953677152, 0.9471010398304239]\n",
      "Output Y is: \n",
      "6.750756907536195\n"
     ]
    }
   ],
   "source": [
    "# calculations for z1\n",
    "xw0 = training_inputs[1][0] * w1[0]\n",
    "xw1 = training_inputs[1][1] * w1[1]\n",
    "xw2 = training_inputs[1][2] * w1[2]\n",
    "\n",
    "z1 = xw0 + xw1 + xw2\n",
    "print(z1)\n",
    "\n",
    "# calculations for z2\n",
    "xw0 = training_inputs[1][0] * w2[0]\n",
    "xw1 = training_inputs[1][1] * w2[1]\n",
    "xw2 = training_inputs[1][2] * w2[2]\n",
    "\n",
    "z2 = xw0 + xw1 + xw2\n",
    "print(z2)\n",
    "\n",
    "# activation function\n",
    "sig = lambda y : 1/(1+np.exp(-y))\n",
    "\n",
    "# hard coded\n",
    "z0 = 1\n",
    "\n",
    "z = [z0, \n",
    "    sig(z1), \n",
    "    sig(z2)\n",
    "    ]\n",
    "\n",
    "print (z)\n",
    "\n",
    "# calculations for y\n",
    "# calculations for z2\n",
    "zv0 = z[0] * V1[0]\n",
    "zv1 = z[1] * V1[1]\n",
    "zv2 = z[2] * V1[2]\n",
    "\n",
    "y = zv0 + zv1 + zv2\n",
    "print(\"Output Y is: \")\n",
    "print (y)"
   ]
  },
  {
   "cell_type": "markdown",
   "id": "6be7ad57",
   "metadata": {},
   "source": [
    "##### Third input in the test point array"
   ]
  },
  {
   "cell_type": "code",
   "execution_count": 23,
   "id": "246e660a",
   "metadata": {},
   "outputs": [
    {
     "name": "stdout",
     "output_type": "stream",
     "text": [
      "13.12582955\n",
      "8.38428272\n",
      "[1, 0.9999980069243171, 0.9997716226203648]\n",
      "Output Y is: \n",
      "-0.0021213833039261942\n"
     ]
    }
   ],
   "source": [
    "# calculations for z1\n",
    "xw0 = training_inputs[2][0] * w1[0]\n",
    "xw1 = training_inputs[2][1] * w1[1]\n",
    "xw2 = training_inputs[2][2] * w1[2]\n",
    "\n",
    "z1 = xw0 + xw1 + xw2\n",
    "print(z1)\n",
    "\n",
    "# calculations for z2\n",
    "xw0 = training_inputs[2][0] * w2[0]\n",
    "xw1 = training_inputs[2][1] * w2[1]\n",
    "xw2 = training_inputs[2][2] * w2[2]\n",
    "\n",
    "z2 = xw0 + xw1 + xw2\n",
    "print(z2)\n",
    "\n",
    "# activation function\n",
    "sig = lambda y : 1/(1+np.exp(-y))\n",
    "\n",
    "# hard coded\n",
    "z0 = 1\n",
    "\n",
    "z = [z0, \n",
    "    sig(z1), \n",
    "    sig(z2)\n",
    "    ]\n",
    "\n",
    "print (z)\n",
    "\n",
    "# calculations for y\n",
    "# calculations for z2\n",
    "zv0 = z[0] * V1[0]\n",
    "zv1 = z[1] * V1[1]\n",
    "zv2 = z[2] * V1[2]\n",
    "\n",
    "y = zv0 + zv1 + zv2\n",
    "print(\"Output Y is: \")\n",
    "print (y)"
   ]
  },
  {
   "cell_type": "markdown",
   "id": "2899535f",
   "metadata": {},
   "source": [
    "##### Fourth input in the test point array"
   ]
  },
  {
   "cell_type": "code",
   "execution_count": 24,
   "id": "f042d5e5",
   "metadata": {},
   "outputs": [
    {
     "name": "stdout",
     "output_type": "stream",
     "text": [
      "13.12582955\n",
      "8.38428272\n",
      "[1, 0.9999980069243171, 0.9997716226203648]\n",
      "Output Y is: \n",
      "-0.0021213833039261942\n"
     ]
    }
   ],
   "source": [
    "# calculations for z1\n",
    "xw0 = training_inputs[2][0] * w1[0]\n",
    "xw1 = training_inputs[2][1] * w1[1]\n",
    "xw2 = training_inputs[2][2] * w1[2]\n",
    "\n",
    "z1 = xw0 + xw1 + xw2\n",
    "print(z1)\n",
    "\n",
    "# calculations for z2\n",
    "xw0 = training_inputs[2][0] * w2[0]\n",
    "xw1 = training_inputs[2][1] * w2[1]\n",
    "xw2 = training_inputs[2][2] * w2[2]\n",
    "\n",
    "z2 = xw0 + xw1 + xw2\n",
    "print(z2)\n",
    "\n",
    "# activation function\n",
    "sig = lambda y : 1/(1+np.exp(-y))\n",
    "\n",
    "# hard coded\n",
    "z0 = 1\n",
    "\n",
    "z = [z0, \n",
    "    sig(z1), \n",
    "    sig(z2)\n",
    "    ]\n",
    "\n",
    "print (z)\n",
    "\n",
    "# calculations for y\n",
    "# calculations for z2\n",
    "zv0 = z[0] * V1[0]\n",
    "zv1 = z[1] * V1[1]\n",
    "zv2 = z[2] * V1[2]\n",
    "\n",
    "y = zv0 + zv1 + zv2\n",
    "print(\"Output Y is: \")\n",
    "print (y)"
   ]
  },
  {
   "cell_type": "code",
   "execution_count": null,
   "id": "3854644f",
   "metadata": {},
   "outputs": [],
   "source": []
  }
 ],
 "metadata": {
  "kernelspec": {
   "display_name": "Python 3",
   "language": "python",
   "name": "python3"
  },
  "language_info": {
   "codemirror_mode": {
    "name": "ipython",
    "version": 3
   },
   "file_extension": ".py",
   "mimetype": "text/x-python",
   "name": "python",
   "nbconvert_exporter": "python",
   "pygments_lexer": "ipython3",
   "version": "3.8.8"
  }
 },
 "nbformat": 4,
 "nbformat_minor": 5
}
