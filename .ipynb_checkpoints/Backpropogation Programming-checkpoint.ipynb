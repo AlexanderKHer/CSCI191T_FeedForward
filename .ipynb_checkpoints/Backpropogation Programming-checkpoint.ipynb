{
 "cells": [
  {
   "cell_type": "markdown",
   "id": "bdcd10a1",
   "metadata": {},
   "source": [
    "# Backpropagation Programming"
   ]
  },
  {
   "cell_type": "markdown",
   "id": "75f499a2",
   "metadata": {},
   "source": [
    "### Alexander Her"
   ]
  },
  {
   "cell_type": "code",
   "execution_count": 2,
   "id": "b148a77e",
   "metadata": {},
   "outputs": [],
   "source": [
    "import math \n",
    "import numpy as np\n",
    "\n",
    "def sigmoid(x):\n",
    "  return 1 /(1+math.exp(-x))\n",
    "\n",
    "    \n",
    "#test points\n",
    "training_inputs = np.array([[1, 0, 0],\n",
    "                          [1, 0, 1],\n",
    "                          [1, 1, 0], \n",
    "                          [1, 1, 1]])\n",
    "\n",
    "\n",
    "# transpose to 4x1 matrix\n",
    "training_outputs = np.array([0, 1, 1, 0]).T\n",
    "\n",
    "w1 = (3.19304864, 9.93278091, -4.74659947)\n",
    "w2 = (-1.59451474, 9.97879746, 4.47953684)\n",
    "V1 = (0.32620883, -8.71647388, 8.39004239)\n",
    "bias = 1.0\n",
    "\n",
    "\n",
    "z0 = 1\n",
    "z1 = np.dot(training_inputs, np.array(w1).T)\n",
    "z2 = np.dot(training_inputs, np.array(w2).T)\n",
    "\n",
    "z = [z0, \n",
    "    sig(z1), \n",
    "    sig(z2)\n",
    "    ]\n",
    "\n",
    "sum = 0\n",
    "y = np.dot(z, np.array(V1).T)\n",
    "\n"
   ]
  },
  {
   "cell_type": "code",
   "execution_count": null,
   "id": "8138d695",
   "metadata": {},
   "outputs": [],
   "source": []
  }
 ],
 "metadata": {
  "kernelspec": {
   "display_name": "Python 3",
   "language": "python",
   "name": "python3"
  },
  "language_info": {
   "codemirror_mode": {
    "name": "ipython",
    "version": 3
   },
   "file_extension": ".py",
   "mimetype": "text/x-python",
   "name": "python",
   "nbconvert_exporter": "python",
   "pygments_lexer": "ipython3",
   "version": "3.8.8"
  }
 },
 "nbformat": 4,
 "nbformat_minor": 5
}
