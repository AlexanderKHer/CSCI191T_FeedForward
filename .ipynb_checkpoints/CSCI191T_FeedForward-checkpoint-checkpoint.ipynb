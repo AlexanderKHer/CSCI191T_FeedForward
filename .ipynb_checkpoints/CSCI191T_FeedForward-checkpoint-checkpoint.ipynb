{
 "cells": [
  {
   "cell_type": "markdown",
   "id": "55f0fd6c",
   "metadata": {},
   "source": [
    "# Feed Forward Algorithm"
   ]
  },
  {
   "cell_type": "markdown",
   "id": "10a6a450",
   "metadata": {},
   "source": [
    "#### Alexander Her"
   ]
  },
  {
   "cell_type": "code",
   "execution_count": 4,
   "id": "3854644f",
   "metadata": {},
   "outputs": [
    {
     "ename": "TypeError",
     "evalue": "only size-1 arrays can be converted to Python scalars",
     "output_type": "error",
     "traceback": [
      "\u001b[1;31m---------------------------------------------------------------------------\u001b[0m",
      "\u001b[1;31mTypeError\u001b[0m                                 Traceback (most recent call last)",
      "\u001b[1;32m<ipython-input-4-9452bc0e2f1f>\u001b[0m in \u001b[0;36m<module>\u001b[1;34m\u001b[0m\n\u001b[0;32m     27\u001b[0m \u001b[1;33m\u001b[0m\u001b[0m\n\u001b[0;32m     28\u001b[0m z = [z0, \n\u001b[1;32m---> 29\u001b[1;33m     \u001b[0msig\u001b[0m\u001b[1;33m(\u001b[0m\u001b[0mz1\u001b[0m\u001b[1;33m)\u001b[0m\u001b[1;33m,\u001b[0m\u001b[1;33m\u001b[0m\u001b[1;33m\u001b[0m\u001b[0m\n\u001b[0m\u001b[0;32m     30\u001b[0m     \u001b[0msig\u001b[0m\u001b[1;33m(\u001b[0m\u001b[0mz2\u001b[0m\u001b[1;33m)\u001b[0m\u001b[1;33m\u001b[0m\u001b[1;33m\u001b[0m\u001b[0m\n\u001b[0;32m     31\u001b[0m     ]\n",
      "\u001b[1;32m<ipython-input-4-9452bc0e2f1f>\u001b[0m in \u001b[0;36msig\u001b[1;34m(x)\u001b[0m\n\u001b[0;32m      3\u001b[0m \u001b[1;33m\u001b[0m\u001b[0m\n\u001b[0;32m      4\u001b[0m \u001b[1;32mdef\u001b[0m \u001b[0msig\u001b[0m\u001b[1;33m(\u001b[0m\u001b[0mx\u001b[0m\u001b[1;33m)\u001b[0m\u001b[1;33m:\u001b[0m\u001b[1;33m\u001b[0m\u001b[1;33m\u001b[0m\u001b[0m\n\u001b[1;32m----> 5\u001b[1;33m   \u001b[1;32mreturn\u001b[0m \u001b[1;36m1\u001b[0m \u001b[1;33m/\u001b[0m\u001b[1;33m(\u001b[0m\u001b[1;36m1\u001b[0m\u001b[1;33m+\u001b[0m\u001b[0mmath\u001b[0m\u001b[1;33m.\u001b[0m\u001b[0mexp\u001b[0m\u001b[1;33m(\u001b[0m\u001b[1;33m-\u001b[0m\u001b[0mx\u001b[0m\u001b[1;33m)\u001b[0m\u001b[1;33m)\u001b[0m\u001b[1;33m\u001b[0m\u001b[1;33m\u001b[0m\u001b[0m\n\u001b[0m\u001b[0;32m      6\u001b[0m \u001b[1;33m\u001b[0m\u001b[0m\n\u001b[0;32m      7\u001b[0m \u001b[1;33m\u001b[0m\u001b[0m\n",
      "\u001b[1;31mTypeError\u001b[0m: only size-1 arrays can be converted to Python scalars"
     ]
    }
   ],
   "source": [
    "import math \n",
    "import numpy as np\n",
    "\n",
    "def sig(x):\n",
    "  return 1 /(1+math.exp(-x))\n",
    "\n",
    "    \n",
    "#test points\n",
    "training_inputs = np.array([[1, 0, 0],\n",
    "                          [1, 0, 1],\n",
    "                          [1, 1, 0], \n",
    "                          [1, 1, 1]])\n",
    "\n",
    "\n",
    "# transpose to 4x1 matrix\n",
    "training_outputs = np.array([0, 1, 1, 0]).T\n",
    "\n",
    "w1 = (3.19304864, 9.93278091, -4.74659947)\n",
    "w2 = (-1.59451474, 9.97879746, 4.47953684)\n",
    "V1 = (0.32620883, -8.71647388, 8.39004239)\n",
    "bias = 1.0\n",
    "\n",
    "\n",
    "z0 = 1\n",
    "z1 = np.dot(training_inputs, np.array(w1).T)\n",
    "z2 = np.dot(training_inputs, np.array(w2).T)\n",
    "\n",
    "z = [z0, \n",
    "    sig(z1), \n",
    "    sig(z2)\n",
    "    ]\n",
    "\n",
    "sum = 0\n",
    "y = np.dot(z, np.array(V1).T)\n",
    "\n",
    "    \n",
    "print(z)\n",
    "print(z1)\n",
    "print(z2)\n",
    "print(y)"
   ]
  },
  {
   "cell_type": "code",
   "execution_count": null,
   "id": "da500245",
   "metadata": {},
   "outputs": [],
   "source": []
  }
 ],
 "metadata": {
  "kernelspec": {
   "display_name": "Python 3",
   "language": "python",
   "name": "python3"
  },
  "language_info": {
   "codemirror_mode": {
    "name": "ipython",
    "version": 3
   },
   "file_extension": ".py",
   "mimetype": "text/x-python",
   "name": "python",
   "nbconvert_exporter": "python",
   "pygments_lexer": "ipython3",
   "version": "3.8.8"
  }
 },
 "nbformat": 4,
 "nbformat_minor": 5
}
